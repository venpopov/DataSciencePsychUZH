{
 "cells": [
  {
   "cell_type": "markdown",
   "id": "patent-passion",
   "metadata": {},
   "source": [
    "## Homework 5: Mixed-effects models\n",
    "\n",
    "In this homework we will continue analyzing the lexical decision data from Homework 4. \n",
    "\n",
    "We will be using the files `ldt_trials.csv` and `word_properties.csv` in the `data` folder. These files contain lexical decision reaction times for each participant and each word (`ldt_trials.csv`) and information about various word properties such as word length, word frequency, concreteness and emotional valence (`word_properties.csv`). These data were obtained from the English Lexicon Project: https://elexicon.wustl.edu/index.html"
   ]
  },
  {
   "cell_type": "markdown",
   "id": "confirmed-network",
   "metadata": {},
   "source": [
    "#### Part 1: Loading and organizing the data\n",
    "\n"
   ]
  }
 ],
 "metadata": {
  "kernelspec": {
   "display_name": "R",
   "language": "R",
   "name": "ir"
  },
  "language_info": {
   "codemirror_mode": "r",
   "file_extension": ".r",
   "mimetype": "text/x-r-source",
   "name": "R",
   "pygments_lexer": "r",
   "version": "4.0.4"
  }
 },
 "nbformat": 4,
 "nbformat_minor": 5
}
