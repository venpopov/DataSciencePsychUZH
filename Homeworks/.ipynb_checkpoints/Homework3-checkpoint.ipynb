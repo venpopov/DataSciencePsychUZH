{
 "cells": [
  {
   "cell_type": "markdown",
   "id": "usual-people",
   "metadata": {},
   "source": [
    "## Homework 3: Data exploration and visualization\n",
    "\n",
    "In this homework you will practice manipulating, exploring and visualizing data in order to answer questions about the data.\n",
    "\n",
    "Before you begin, download this notebook, and the files \"data/hw3_health_w.txt\" and \"data/hw3_health_m.txt\" to your computer and copy them to your own repository. As we discussed in the last class, the easiest way to do that is if you clone the class repository in a separate folder on your computer with the command:\n",
    "\n",
    "```git clone https://github.com/venpopov/DataSciencePsychUZH```\n",
    "\n",
    "If you have already cloned previously the class repository, you can update it on your computer with the new files by \"pulling\" information from github via the following command, which you need to run while your terminal is in your \"DataSciencePsychUZH\" folder:\n",
    "\n",
    "```git pull```\n",
    "\n"
   ]
  },
  {
   "cell_type": "markdown",
   "id": "recorded-split",
   "metadata": {},
   "source": [
    "### Loading and manipulating data\n",
    "\n",
    "The datasets `hw3_health_m.txt` and `hw3_health_w.txt` contain data for the average number of steps per day and the BMI index for a number of men and women, respectively.\n",
    "\n",
    "First, load the two datasets via the `read.table()` command. You need to specify that the first row of the files contains the variable names, by setting the `header = TRUE` argument in the `read.table()` command **(1 point)**:"
   ]
  },
  {
   "cell_type": "code",
   "execution_count": null,
   "id": "reflected-matthew",
   "metadata": {},
   "outputs": [],
   "source": [
    "# insert code here"
   ]
  },
  {
   "cell_type": "markdown",
   "id": "perfect-wagon",
   "metadata": {},
   "source": [
    "Use the `str()` and `head()` commands to become familiar with the structure of the datasets **(1 point)**"
   ]
  },
  {
   "cell_type": "code",
   "execution_count": null,
   "id": "modified-respondent",
   "metadata": {},
   "outputs": [],
   "source": [
    "# insert code here"
   ]
  },
  {
   "cell_type": "markdown",
   "id": "responsible-religious",
   "metadata": {},
   "source": [
    "Based on the output from the `str()` command, how many men and women is there data for? **(1 point)**\n",
    "- *write your response here*"
   ]
  },
  {
   "cell_type": "markdown",
   "id": "killing-growing",
   "metadata": {},
   "source": [
    "Based on what you learned in the previous homework, are these datasets tidy? Please explain your answer. If necessary, write code in the field below to tidy up the datasets **(2 points)**\n",
    "- *write your response here*"
   ]
  },
  {
   "cell_type": "code",
   "execution_count": null,
   "id": "substantial-bosnia",
   "metadata": {},
   "outputs": [],
   "source": [
    "# insert code here"
   ]
  },
  {
   "cell_type": "markdown",
   "id": "south-bibliography",
   "metadata": {},
   "source": [
    "### Exploring the BMI variable\n",
    "\n",
    "Let's try to understand our data better. Use `ggplot()` to answer the following questions:\n",
    "\n",
    "How is the BMI distributed overall, regardless of gender? (hint: use either `geom_density()`; **2 points**) "
   ]
  },
  {
   "cell_type": "code",
   "execution_count": null,
   "id": "dominant-bradley",
   "metadata": {},
   "outputs": [],
   "source": [
    "# insert code here"
   ]
  },
  {
   "cell_type": "markdown",
   "id": "spanish-evidence",
   "metadata": {},
   "source": [
    "How would you describe the distribution you found in the previous command?\n",
    "- *write your response here*"
   ]
  },
  {
   "cell_type": "markdown",
   "id": "resistant-electricity",
   "metadata": {},
   "source": [
    "Do men and women differ in their BMI? First, run a T test via the `t.test()` command to answer this question **(2 points)**"
   ]
  },
  {
   "cell_type": "code",
   "execution_count": null,
   "id": "middle-islam",
   "metadata": {},
   "outputs": [],
   "source": [
    "# insert code here"
   ]
  },
  {
   "cell_type": "markdown",
   "id": "covered-metadata",
   "metadata": {},
   "source": [
    "- *insert response based on code output here*"
   ]
  },
  {
   "cell_type": "markdown",
   "id": "premium-lesson",
   "metadata": {},
   "source": [
    "Can the results of your `t.test()` explain the shape of the distribution of BMI you found in the previous step? Add the `color=gender` argument in the `aes()` part of your previous `ggplot()` call to split the distribution by gender and answer this question **(3 points)**"
   ]
  },
  {
   "cell_type": "code",
   "execution_count": null,
   "id": "sunset-sustainability",
   "metadata": {},
   "outputs": [],
   "source": [
    "# insert code here"
   ]
  },
  {
   "cell_type": "markdown",
   "id": "dietary-kidney",
   "metadata": {},
   "source": [
    "- *insert response based on code output here*"
   ]
  },
  {
   "cell_type": "markdown",
   "id": "billion-airplane",
   "metadata": {},
   "source": [
    "### Exploring the STEPS variable"
   ]
  },
  {
   "cell_type": "markdown",
   "id": "focal-assignment",
   "metadata": {},
   "source": [
    "Some errors were made when coding the steps variable. Plot a histogram of the `steps` variable. What is unusual about this data? **(2 points)**"
   ]
  },
  {
   "cell_type": "code",
   "execution_count": null,
   "id": "amended-korea",
   "metadata": {},
   "outputs": [],
   "source": [
    "# insert code here"
   ]
  },
  {
   "cell_type": "markdown",
   "id": "overall-standing",
   "metadata": {},
   "source": [
    "- *insert response based on code output here*"
   ]
  },
  {
   "cell_type": "markdown",
   "id": "outdoor-above",
   "metadata": {},
   "source": [
    "One data point needs to be removed from this dataset. Use the `filter()` command on the `steps` variable to remove the incorrect data point, and save the result to a new data frame **(2 points)**"
   ]
  },
  {
   "cell_type": "code",
   "execution_count": null,
   "id": "beneficial-customs",
   "metadata": {},
   "outputs": [],
   "source": [
    "# insert code here"
   ]
  },
  {
   "cell_type": "markdown",
   "id": "amber-registration",
   "metadata": {},
   "source": [
    "### The relationship between daily steps and BMI"
   ]
  },
  {
   "cell_type": "markdown",
   "id": "other-crest",
   "metadata": {},
   "source": [
    "Now that we understand how the individual variables are distributed, and that we have cleaned up the incorrectly coded data point, it's time to understand whether daily steps are related to BMI. \n",
    "\n",
    "Please use the `cor.test()` function to answer the following questions **(5 points)**\n",
    "- *Is there a statistically significant correlation between daily steps and BMI*\n",
    "- *Does the correlation between daily steps and BMI differ for men and women*"
   ]
  },
  {
   "cell_type": "code",
   "execution_count": null,
   "id": "passive-luxury",
   "metadata": {},
   "outputs": [],
   "source": [
    "# insert code here"
   ]
  },
  {
   "cell_type": "markdown",
   "id": "applied-acoustic",
   "metadata": {},
   "source": [
    "- *insert response based on code output here*"
   ]
  },
  {
   "cell_type": "markdown",
   "id": "attractive-sauce",
   "metadata": {},
   "source": [
    "Finally, in addition to running a statistical correlation test, what else can you do to better understand the relationship between daily steps and BMI? How would you described this relationship? **(3 points)** "
   ]
  },
  {
   "cell_type": "code",
   "execution_count": null,
   "id": "running-toyota",
   "metadata": {},
   "outputs": [],
   "source": [
    "# insert code here"
   ]
  },
  {
   "cell_type": "markdown",
   "id": "successful-sweden",
   "metadata": {},
   "source": [
    "- *insert response based on code output here*"
   ]
  }
 ],
 "metadata": {
  "kernelspec": {
   "display_name": "R",
   "language": "R",
   "name": "ir"
  },
  "language_info": {
   "codemirror_mode": "r",
   "file_extension": ".r",
   "mimetype": "text/x-r-source",
   "name": "R",
   "pygments_lexer": "r",
   "version": "4.0.4"
  }
 },
 "nbformat": 4,
 "nbformat_minor": 5
}
