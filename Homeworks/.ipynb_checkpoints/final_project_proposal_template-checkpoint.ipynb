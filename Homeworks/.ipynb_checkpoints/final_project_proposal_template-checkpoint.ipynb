{
 "cells": [
  {
   "cell_type": "markdown",
   "id": "advisory-printing",
   "metadata": {},
   "source": [
    "## Final Project Proposal"
   ]
  },
  {
   "cell_type": "markdown",
   "id": "swedish-initial",
   "metadata": {},
   "source": [
    "#### Name:"
   ]
  },
  {
   "cell_type": "markdown",
   "id": "occupied-marshall",
   "metadata": {},
   "source": [
    "#### Brief description of the dataset:\n",
    "\n",
    "> Write one paragraph describing overall what the dataset is about."
   ]
  },
  {
   "cell_type": "markdown",
   "id": "aggregate-parameter",
   "metadata": {},
   "source": [
    "#### Dataset questions:\n",
    "-\tWhere did you obtain the dataset from?\n",
    "\n",
    ">\n",
    "\n",
    "-\tHow many observations are there?\n",
    "\n",
    ">\n",
    "\n",
    "-\tHow many variables are there?\n",
    "\n",
    ">\n",
    "\n",
    "-\tAre there multiple observations for the same units (e.g. multiple measurements of RTs per participant? Multiple evaluations per employee? etc)\n",
    "\n",
    ">"
   ]
  },
  {
   "cell_type": "markdown",
   "id": "entire-shopper",
   "metadata": {},
   "source": [
    "#### Project goals:\n",
    "\n",
    "> Briefly describe what questions would you like to address with this project. What are your dependent and independent variables?"
   ]
  },
  {
   "cell_type": "markdown",
   "id": "unable-relationship",
   "metadata": {},
   "source": [
    "#### Project methods:\n",
    "> Briefly describe what methods you plan to use to answer the project goals. These have to be based on the syllabus for the remaining of the course and/or the main textbook we are using. This is not a final commitment and you can change your plan as you progress, but describe here your current ideas and plans (briefly!)"
   ]
  }
 ],
 "metadata": {
  "kernelspec": {
   "display_name": "R",
   "language": "R",
   "name": "ir"
  },
  "language_info": {
   "codemirror_mode": "r",
   "file_extension": ".r",
   "mimetype": "text/x-r-source",
   "name": "R",
   "pygments_lexer": "r",
   "version": "4.0.4"
  }
 },
 "nbformat": 4,
 "nbformat_minor": 5
}
