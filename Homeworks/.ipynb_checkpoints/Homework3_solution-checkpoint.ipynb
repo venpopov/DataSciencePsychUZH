{
 "cells": [
  {
   "cell_type": "markdown",
   "id": "usual-people",
   "metadata": {},
   "source": [
    "## Homework 3: Data exploration and visualization\n",
    "\n",
    "In this homework you will practice manipulating, exploring and visualizing data in order to answer questions about the data.\n",
    "\n",
    "Before you begin, download this notebook, and the files \"data/hw3_health_w.txt\" and \"data/hw3_health_m.txt\" to your computer and copy them to your own repository. As we discussed in the last class, the easiest way to do that is if you clone the class repository in a separate folder on your computer with the command:\n",
    "\n",
    "```git clone https://github.com/venpopov/DataSciencePsychUZH```\n",
    "\n",
    "If you have already cloned previously the class repository, you can update it on your computer with the new files by \"pulling\" information from github via the following command, which you need to run while your terminal is in your \"DataSciencePsychUZH\" folder:\n",
    "\n",
    "```git pull```\n",
    "\n"
   ]
  },
  {
   "cell_type": "markdown",
   "id": "recorded-split",
   "metadata": {},
   "source": [
    "### Loading and manipulating data\n",
    "\n",
    "The datasets `hw3_health_m.txt` and `hw3_health_w.txt` contain data for the average number of steps per day and the BMI index for a number of men and women, respectively.\n",
    "\n",
    "First, load the two datasets via the `read.table()` command. You need to specify that the first row of the files contains the variable names, by setting the `header = TRUE` argument in the `read.table()` command **(1 point)**:"
   ]
  },
  {
   "cell_type": "code",
   "execution_count": 1,
   "id": "reflected-matthew",
   "metadata": {},
   "outputs": [
    {
     "name": "stderr",
     "output_type": "stream",
     "text": [
      "Warning message:\n",
      "\"package 'tidyverse' was built under R version 4.0.5\"\n",
      "Registered S3 methods overwritten by 'tibble':\n",
      "  method     from  \n",
      "  format.tbl pillar\n",
      "  print.tbl  pillar\n",
      "\n",
      "-- \u001b[1mAttaching packages\u001b[22m --------------------------------------- tidyverse 1.3.0 --\n",
      "\n",
      "\u001b[32mv\u001b[39m \u001b[34mggplot2\u001b[39m 3.3.2     \u001b[32mv\u001b[39m \u001b[34mpurrr  \u001b[39m 0.3.4\n",
      "\u001b[32mv\u001b[39m \u001b[34mtibble \u001b[39m 3.0.3     \u001b[32mv\u001b[39m \u001b[34mdplyr  \u001b[39m 1.0.5\n",
      "\u001b[32mv\u001b[39m \u001b[34mtidyr  \u001b[39m 1.1.2     \u001b[32mv\u001b[39m \u001b[34mstringr\u001b[39m 1.4.0\n",
      "\u001b[32mv\u001b[39m \u001b[34mreadr  \u001b[39m 1.3.1     \u001b[32mv\u001b[39m \u001b[34mforcats\u001b[39m 0.5.0\n",
      "\n",
      "Warning message:\n",
      "\"package 'dplyr' was built under R version 4.0.5\"\n",
      "-- \u001b[1mConflicts\u001b[22m ------------------------------------------ tidyverse_conflicts() --\n",
      "\u001b[31mx\u001b[39m \u001b[34mdplyr\u001b[39m::\u001b[32mfilter()\u001b[39m masks \u001b[34mstats\u001b[39m::filter()\n",
      "\u001b[31mx\u001b[39m \u001b[34mdplyr\u001b[39m::\u001b[32mlag()\u001b[39m    masks \u001b[34mstats\u001b[39m::lag()\n",
      "\n"
     ]
    }
   ],
   "source": [
    "library(tidyverse)\n",
    "health_m <- read.table('data/hw3_health_m.txt', header=T)\n",
    "health_w <- read.table('data/hw3_health_w.txt', header=T)"
   ]
  },
  {
   "cell_type": "markdown",
   "id": "perfect-wagon",
   "metadata": {},
   "source": [
    "Use the `str()` and `head()` commands to become familiar with the structure of the datasets **(1 point)**"
   ]
  },
  {
   "cell_type": "code",
   "execution_count": 2,
   "id": "modified-respondent",
   "metadata": {},
   "outputs": [
    {
     "name": "stdout",
     "output_type": "stream",
     "text": [
      "'data.frame':\t865 obs. of  3 variables:\n",
      " $ ID   : int  1 2 6 7 8 10 11 13 17 18 ...\n",
      " $ steps: int  15000 15000 14861 14861 14699 14560 14560 14560 14560 14560 ...\n",
      " $ bmi  : num  16.9 16.9 16.8 16.8 17.3 20.5 20.6 20.5 20.4 20.4 ...\n"
     ]
    },
    {
     "data": {
      "text/html": [
       "<table class=\"dataframe\">\n",
       "<caption>A data.frame: 6 × 3</caption>\n",
       "<thead>\n",
       "\t<tr><th></th><th scope=col>ID</th><th scope=col>steps</th><th scope=col>bmi</th></tr>\n",
       "\t<tr><th></th><th scope=col>&lt;int&gt;</th><th scope=col>&lt;int&gt;</th><th scope=col>&lt;dbl&gt;</th></tr>\n",
       "</thead>\n",
       "<tbody>\n",
       "\t<tr><th scope=row>1</th><td> 1</td><td>15000</td><td>16.9</td></tr>\n",
       "\t<tr><th scope=row>2</th><td> 2</td><td>15000</td><td>16.9</td></tr>\n",
       "\t<tr><th scope=row>3</th><td> 6</td><td>14861</td><td>16.8</td></tr>\n",
       "\t<tr><th scope=row>4</th><td> 7</td><td>14861</td><td>16.8</td></tr>\n",
       "\t<tr><th scope=row>5</th><td> 8</td><td>14699</td><td>17.3</td></tr>\n",
       "\t<tr><th scope=row>6</th><td>10</td><td>14560</td><td>20.5</td></tr>\n",
       "</tbody>\n",
       "</table>\n"
      ],
      "text/latex": [
       "A data.frame: 6 × 3\n",
       "\\begin{tabular}{r|lll}\n",
       "  & ID & steps & bmi\\\\\n",
       "  & <int> & <int> & <dbl>\\\\\n",
       "\\hline\n",
       "\t1 &  1 & 15000 & 16.9\\\\\n",
       "\t2 &  2 & 15000 & 16.9\\\\\n",
       "\t3 &  6 & 14861 & 16.8\\\\\n",
       "\t4 &  7 & 14861 & 16.8\\\\\n",
       "\t5 &  8 & 14699 & 17.3\\\\\n",
       "\t6 & 10 & 14560 & 20.5\\\\\n",
       "\\end{tabular}\n"
      ],
      "text/markdown": [
       "\n",
       "A data.frame: 6 × 3\n",
       "\n",
       "| <!--/--> | ID &lt;int&gt; | steps &lt;int&gt; | bmi &lt;dbl&gt; |\n",
       "|---|---|---|---|\n",
       "| 1 |  1 | 15000 | 16.9 |\n",
       "| 2 |  2 | 15000 | 16.9 |\n",
       "| 3 |  6 | 14861 | 16.8 |\n",
       "| 4 |  7 | 14861 | 16.8 |\n",
       "| 5 |  8 | 14699 | 17.3 |\n",
       "| 6 | 10 | 14560 | 20.5 |\n",
       "\n"
      ],
      "text/plain": [
       "  ID steps bmi \n",
       "1  1 15000 16.9\n",
       "2  2 15000 16.9\n",
       "3  6 14861 16.8\n",
       "4  7 14861 16.8\n",
       "5  8 14699 17.3\n",
       "6 10 14560 20.5"
      ]
     },
     "metadata": {},
     "output_type": "display_data"
    },
    {
     "name": "stdout",
     "output_type": "stream",
     "text": [
      "'data.frame':\t921 obs. of  3 variables:\n",
      " $ ID   : int  3 4 5 9 12 14 15 16 21 23 ...\n",
      " $ steps: int  15000 14861 14861 14699 14560 14560 14560 14560 14560 14560 ...\n",
      " $ bmi  : num  17 17.2 17.2 16.8 20.4 20.5 20.5 20.5 19.7 19.6 ...\n"
     ]
    },
    {
     "data": {
      "text/html": [
       "<table class=\"dataframe\">\n",
       "<caption>A data.frame: 6 × 3</caption>\n",
       "<thead>\n",
       "\t<tr><th></th><th scope=col>ID</th><th scope=col>steps</th><th scope=col>bmi</th></tr>\n",
       "\t<tr><th></th><th scope=col>&lt;int&gt;</th><th scope=col>&lt;int&gt;</th><th scope=col>&lt;dbl&gt;</th></tr>\n",
       "</thead>\n",
       "<tbody>\n",
       "\t<tr><th scope=row>1</th><td> 3</td><td>15000</td><td>17.0</td></tr>\n",
       "\t<tr><th scope=row>2</th><td> 4</td><td>14861</td><td>17.2</td></tr>\n",
       "\t<tr><th scope=row>3</th><td> 5</td><td>14861</td><td>17.2</td></tr>\n",
       "\t<tr><th scope=row>4</th><td> 9</td><td>14699</td><td>16.8</td></tr>\n",
       "\t<tr><th scope=row>5</th><td>12</td><td>14560</td><td>20.4</td></tr>\n",
       "\t<tr><th scope=row>6</th><td>14</td><td>14560</td><td>20.5</td></tr>\n",
       "</tbody>\n",
       "</table>\n"
      ],
      "text/latex": [
       "A data.frame: 6 × 3\n",
       "\\begin{tabular}{r|lll}\n",
       "  & ID & steps & bmi\\\\\n",
       "  & <int> & <int> & <dbl>\\\\\n",
       "\\hline\n",
       "\t1 &  3 & 15000 & 17.0\\\\\n",
       "\t2 &  4 & 14861 & 17.2\\\\\n",
       "\t3 &  5 & 14861 & 17.2\\\\\n",
       "\t4 &  9 & 14699 & 16.8\\\\\n",
       "\t5 & 12 & 14560 & 20.4\\\\\n",
       "\t6 & 14 & 14560 & 20.5\\\\\n",
       "\\end{tabular}\n"
      ],
      "text/markdown": [
       "\n",
       "A data.frame: 6 × 3\n",
       "\n",
       "| <!--/--> | ID &lt;int&gt; | steps &lt;int&gt; | bmi &lt;dbl&gt; |\n",
       "|---|---|---|---|\n",
       "| 1 |  3 | 15000 | 17.0 |\n",
       "| 2 |  4 | 14861 | 17.2 |\n",
       "| 3 |  5 | 14861 | 17.2 |\n",
       "| 4 |  9 | 14699 | 16.8 |\n",
       "| 5 | 12 | 14560 | 20.4 |\n",
       "| 6 | 14 | 14560 | 20.5 |\n",
       "\n"
      ],
      "text/plain": [
       "  ID steps bmi \n",
       "1  3 15000 17.0\n",
       "2  4 14861 17.2\n",
       "3  5 14861 17.2\n",
       "4  9 14699 16.8\n",
       "5 12 14560 20.4\n",
       "6 14 14560 20.5"
      ]
     },
     "metadata": {},
     "output_type": "display_data"
    }
   ],
   "source": [
    "str(health_m); head(health_m)\n",
    "str(health_w); head(health_w)"
   ]
  },
  {
   "cell_type": "markdown",
   "id": "responsible-religious",
   "metadata": {},
   "source": [
    "Based on the output from the `str()` command, how many men and women is there data for? **(1 point)**\n",
    "- 865 men and 921 women"
   ]
  },
  {
   "cell_type": "markdown",
   "id": "killing-growing",
   "metadata": {},
   "source": [
    "Based on what you learned in the previous homework, are these datasets tidy? Please explain your answer. If necessary, write code in the field below to tidy up the datasets **(2 points)**\n",
    "- Not tidy. Both datasets contain the same variables, just split by gender, and should be combined."
   ]
  },
  {
   "cell_type": "code",
   "execution_count": 3,
   "id": "substantial-bosnia",
   "metadata": {},
   "outputs": [
    {
     "data": {
      "text/html": [
       "<table class=\"dataframe\">\n",
       "<caption>A data.frame: 6 × 4</caption>\n",
       "<thead>\n",
       "\t<tr><th></th><th scope=col>gender</th><th scope=col>ID</th><th scope=col>steps</th><th scope=col>bmi</th></tr>\n",
       "\t<tr><th></th><th scope=col>&lt;chr&gt;</th><th scope=col>&lt;int&gt;</th><th scope=col>&lt;int&gt;</th><th scope=col>&lt;dbl&gt;</th></tr>\n",
       "</thead>\n",
       "<tbody>\n",
       "\t<tr><th scope=row>1</th><td>male</td><td> 1</td><td>15000</td><td>16.9</td></tr>\n",
       "\t<tr><th scope=row>2</th><td>male</td><td> 2</td><td>15000</td><td>16.9</td></tr>\n",
       "\t<tr><th scope=row>3</th><td>male</td><td> 6</td><td>14861</td><td>16.8</td></tr>\n",
       "\t<tr><th scope=row>4</th><td>male</td><td> 7</td><td>14861</td><td>16.8</td></tr>\n",
       "\t<tr><th scope=row>5</th><td>male</td><td> 8</td><td>14699</td><td>17.3</td></tr>\n",
       "\t<tr><th scope=row>6</th><td>male</td><td>10</td><td>14560</td><td>20.5</td></tr>\n",
       "</tbody>\n",
       "</table>\n"
      ],
      "text/latex": [
       "A data.frame: 6 × 4\n",
       "\\begin{tabular}{r|llll}\n",
       "  & gender & ID & steps & bmi\\\\\n",
       "  & <chr> & <int> & <int> & <dbl>\\\\\n",
       "\\hline\n",
       "\t1 & male &  1 & 15000 & 16.9\\\\\n",
       "\t2 & male &  2 & 15000 & 16.9\\\\\n",
       "\t3 & male &  6 & 14861 & 16.8\\\\\n",
       "\t4 & male &  7 & 14861 & 16.8\\\\\n",
       "\t5 & male &  8 & 14699 & 17.3\\\\\n",
       "\t6 & male & 10 & 14560 & 20.5\\\\\n",
       "\\end{tabular}\n"
      ],
      "text/markdown": [
       "\n",
       "A data.frame: 6 × 4\n",
       "\n",
       "| <!--/--> | gender &lt;chr&gt; | ID &lt;int&gt; | steps &lt;int&gt; | bmi &lt;dbl&gt; |\n",
       "|---|---|---|---|---|\n",
       "| 1 | male |  1 | 15000 | 16.9 |\n",
       "| 2 | male |  2 | 15000 | 16.9 |\n",
       "| 3 | male |  6 | 14861 | 16.8 |\n",
       "| 4 | male |  7 | 14861 | 16.8 |\n",
       "| 5 | male |  8 | 14699 | 17.3 |\n",
       "| 6 | male | 10 | 14560 | 20.5 |\n",
       "\n"
      ],
      "text/plain": [
       "  gender ID steps bmi \n",
       "1 male    1 15000 16.9\n",
       "2 male    2 15000 16.9\n",
       "3 male    6 14861 16.8\n",
       "4 male    7 14861 16.8\n",
       "5 male    8 14699 17.3\n",
       "6 male   10 14560 20.5"
      ]
     },
     "metadata": {},
     "output_type": "display_data"
    },
    {
     "data": {
      "text/html": [
       "<table class=\"dataframe\">\n",
       "<caption>A data.frame: 6 × 4</caption>\n",
       "<thead>\n",
       "\t<tr><th></th><th scope=col>gender</th><th scope=col>ID</th><th scope=col>steps</th><th scope=col>bmi</th></tr>\n",
       "\t<tr><th></th><th scope=col>&lt;chr&gt;</th><th scope=col>&lt;int&gt;</th><th scope=col>&lt;int&gt;</th><th scope=col>&lt;dbl&gt;</th></tr>\n",
       "</thead>\n",
       "<tbody>\n",
       "\t<tr><th scope=row>1781</th><td>female</td><td>1781</td><td>162</td><td>30.4</td></tr>\n",
       "\t<tr><th scope=row>1782</th><td>female</td><td>1782</td><td>162</td><td>30.3</td></tr>\n",
       "\t<tr><th scope=row>1783</th><td>female</td><td>1783</td><td>162</td><td>30.4</td></tr>\n",
       "\t<tr><th scope=row>1784</th><td>female</td><td>1784</td><td>162</td><td>30.3</td></tr>\n",
       "\t<tr><th scope=row>1785</th><td>female</td><td>1785</td><td>162</td><td>30.3</td></tr>\n",
       "\t<tr><th scope=row>1786</th><td>female</td><td>1786</td><td>  0</td><td>15.0</td></tr>\n",
       "</tbody>\n",
       "</table>\n"
      ],
      "text/latex": [
       "A data.frame: 6 × 4\n",
       "\\begin{tabular}{r|llll}\n",
       "  & gender & ID & steps & bmi\\\\\n",
       "  & <chr> & <int> & <int> & <dbl>\\\\\n",
       "\\hline\n",
       "\t1781 & female & 1781 & 162 & 30.4\\\\\n",
       "\t1782 & female & 1782 & 162 & 30.3\\\\\n",
       "\t1783 & female & 1783 & 162 & 30.4\\\\\n",
       "\t1784 & female & 1784 & 162 & 30.3\\\\\n",
       "\t1785 & female & 1785 & 162 & 30.3\\\\\n",
       "\t1786 & female & 1786 &   0 & 15.0\\\\\n",
       "\\end{tabular}\n"
      ],
      "text/markdown": [
       "\n",
       "A data.frame: 6 × 4\n",
       "\n",
       "| <!--/--> | gender &lt;chr&gt; | ID &lt;int&gt; | steps &lt;int&gt; | bmi &lt;dbl&gt; |\n",
       "|---|---|---|---|---|\n",
       "| 1781 | female | 1781 | 162 | 30.4 |\n",
       "| 1782 | female | 1782 | 162 | 30.3 |\n",
       "| 1783 | female | 1783 | 162 | 30.4 |\n",
       "| 1784 | female | 1784 | 162 | 30.3 |\n",
       "| 1785 | female | 1785 | 162 | 30.3 |\n",
       "| 1786 | female | 1786 |   0 | 15.0 |\n",
       "\n"
      ],
      "text/plain": [
       "     gender ID   steps bmi \n",
       "1781 female 1781 162   30.4\n",
       "1782 female 1782 162   30.3\n",
       "1783 female 1783 162   30.4\n",
       "1784 female 1784 162   30.3\n",
       "1785 female 1785 162   30.3\n",
       "1786 female 1786   0   15.0"
      ]
     },
     "metadata": {},
     "output_type": "display_data"
    }
   ],
   "source": [
    "health <- bind_rows(\"male\" = health_m, \"female\"= health_w, .id = \"gender\", )\n",
    "head(health)\n",
    "tail(health)"
   ]
  },
  {
   "cell_type": "markdown",
   "id": "south-bibliography",
   "metadata": {},
   "source": [
    "### Exploring the BMI variable\n",
    "\n",
    "Let's try to understand our data better. Use `ggplot()` to answer the following questions:\n",
    "\n",
    "How is the BMI distributed overall, regardless of gender? (hint: use either `geom_density()`; **2 points**) "
   ]
  },
  {
   "cell_type": "code",
   "execution_count": 4,
   "id": "dominant-bradley",
   "metadata": {},
   "outputs": [
    {
     "data": {
      "image/png": "[encoded data removed]",
      "text/plain": [
       "plot without title"
      ]
     },
     "metadata": {
      "image/png": {
       "height": 420,
       "width": 420
      }
     },
     "output_type": "display_data"
    }
   ],
   "source": [
    "ggplot(health, aes(bmi)) +\n",
    " geom_density()"
   ]
  },
  {
   "cell_type": "markdown",
   "id": "spanish-evidence",
   "metadata": {},
   "source": [
    "How would you describe the distribution you found in the previous command?\n",
    "- Bimodal distribution with two peaks around BMI 17 and BMI 29"
   ]
  },
  {
   "cell_type": "markdown",
   "id": "resistant-electricity",
   "metadata": {},
   "source": [
    "Do men and women differ in their BMI? First, run a T test via the `t.test()` command to answer this question **(2 points)**"
   ]
  },
  {
   "cell_type": "code",
   "execution_count": 5,
   "id": "middle-islam",
   "metadata": {},
   "outputs": [
    {
     "data": {
      "text/plain": [
       "\n",
       "\tWelch Two Sample t-test\n",
       "\n",
       "data:  bmi by gender\n",
       "t = 3.2353, df = 1768.3, p-value = 0.001238\n",
       "alternative hypothesis: true difference in means is not equal to 0\n",
       "95 percent confidence interval:\n",
       " 0.2952488 1.2043522\n",
       "sample estimates:\n",
       "mean in group female   mean in group male \n",
       "            25.65755             24.90775 \n"
      ]
     },
     "metadata": {},
     "output_type": "display_data"
    }
   ],
   "source": [
    "t.test(bmi ~ gender, data=health)"
   ]
  },
  {
   "cell_type": "markdown",
   "id": "covered-metadata",
   "metadata": {},
   "source": [
    "There is a statistically significant difference in bmi. Men have a lower BMI than women"
   ]
  },
  {
   "cell_type": "markdown",
   "id": "premium-lesson",
   "metadata": {},
   "source": [
    "Can the results of your `t.test()` explain the shape of the distribution of BMI you found in the previous step? Add the `color=gender` argument in the `aes()` part of your previous `ggplot()` call to split the distribution by gender and answer this question **(3 points)**"
   ]
  },
  {
   "cell_type": "code",
   "execution_count": 6,
   "id": "sunset-sustainability",
   "metadata": {},
   "outputs": [
    {
     "data": {
      "image/png": "[encoded data removed]",
      "text/plain": [
       "plot without title"
      ]
     },
     "metadata": {
      "image/png": {
       "height": 420,
       "width": 420
      }
     },
     "output_type": "display_data"
    }
   ],
   "source": [
    "ggplot(health, aes(bmi, color=gender)) +\n",
    " geom_density()"
   ]
  },
  {
   "cell_type": "markdown",
   "id": "dietary-kidney",
   "metadata": {},
   "source": [
    "- Based on the t.test, we might have hypothesized that the two peaks correspond to men and women, because they differ significantly from each other. However, the density plot shows that even though the second peak is larger for women, both groups show a bimodal distribution. Thus, the gender differences cannot explain the bimodal shape of the overall distribution."
   ]
  },
  {
   "cell_type": "markdown",
   "id": "billion-airplane",
   "metadata": {},
   "source": [
    "### Exploring the STEPS variable"
   ]
  },
  {
   "cell_type": "markdown",
   "id": "focal-assignment",
   "metadata": {},
   "source": [
    "Some errors were made when coding the steps variable. Plot a histogram of the `steps` variable. What is unusual about this data? **(2 points)**"
   ]
  },
  {
   "cell_type": "code",
   "execution_count": 7,
   "id": "amended-korea",
   "metadata": {},
   "outputs": [
    {
     "data": {
      "image/png": "[encoded data removed]",
      "text/plain": [
       "Plot with title \"Histogram of health$steps\""
      ]
     },
     "metadata": {
      "image/png": {
       "height": 420,
       "width": 420
      }
     },
     "output_type": "display_data"
    }
   ],
   "source": [
    "hist(health$steps)"
   ]
  },
  {
   "cell_type": "markdown",
   "id": "overall-standing",
   "metadata": {},
   "source": [
    "- There are observations with negative number of steps, which is impossible and it must be a coding error"
   ]
  },
  {
   "cell_type": "markdown",
   "id": "outdoor-above",
   "metadata": {},
   "source": [
    "One data point needs to be removed from this dataset. Use the `filter()` command on the `steps` variable to remove the incorrect data point, and save the result to a new data frame **(2 points)**"
   ]
  },
  {
   "cell_type": "code",
   "execution_count": 8,
   "id": "beneficial-customs",
   "metadata": {},
   "outputs": [],
   "source": [
    "health_filtered <- filter(health, steps > 0)"
   ]
  },
  {
   "cell_type": "markdown",
   "id": "amber-registration",
   "metadata": {},
   "source": [
    "### The relationship between daily steps and BMI"
   ]
  },
  {
   "cell_type": "markdown",
   "id": "other-crest",
   "metadata": {},
   "source": [
    "Now that we understand how the individual variables are distributed, and that we have cleaned up the incorrectly coded data point, it's time to understand whether daily steps are related to BMI. \n",
    "\n",
    "Please use the `cor.test()` function to answer the following questions **(5 points)**\n",
    "- *Is there a statistically significant correlation between daily steps and BMI*\n",
    "- *Does the correlation between daily steps and BMI differ for men and women*"
   ]
  },
  {
   "cell_type": "code",
   "execution_count": 9,
   "id": "passive-luxury",
   "metadata": {},
   "outputs": [
    {
     "data": {
      "text/plain": [
       "\n",
       "\tPearson's product-moment correlation\n",
       "\n",
       "data:  steps and bmi\n",
       "t = -12.551, df = 1782, p-value < 2.2e-16\n",
       "alternative hypothesis: true correlation is not equal to 0\n",
       "95 percent confidence interval:\n",
       " -0.3270726 -0.2417778\n",
       "sample estimates:\n",
       "       cor \n",
       "-0.2849893 \n"
      ]
     },
     "metadata": {},
     "output_type": "display_data"
    },
    {
     "data": {
      "text/plain": [
       "\n",
       "\tPearson's product-moment correlation\n",
       "\n",
       "data:  steps and bmi\n",
       "t = -6.9541, df = 863, p-value = 7.006e-12\n",
       "alternative hypothesis: true correlation is not equal to 0\n",
       "95 percent confidence interval:\n",
       " -0.2925195 -0.1662485\n",
       "sample estimates:\n",
       "       cor \n",
       "-0.2303534 \n"
      ]
     },
     "metadata": {},
     "output_type": "display_data"
    },
    {
     "data": {
      "text/plain": [
       "\n",
       "\tPearson's product-moment correlation\n",
       "\n",
       "data:  steps and bmi\n",
       "t = -10.181, df = 917, p-value < 2.2e-16\n",
       "alternative hypothesis: true correlation is not equal to 0\n",
       "95 percent confidence interval:\n",
       " -0.3756145 -0.2593635\n",
       "sample estimates:\n",
       "       cor \n",
       "-0.3186869 \n"
      ]
     },
     "metadata": {},
     "output_type": "display_data"
    }
   ],
   "source": [
    "# there are many ways to do this, but here's one\n",
    "cor.test(~ steps + bmi, data=health_filtered)\n",
    "cor.test(~ steps + bmi, data=health_filtered, subset = (health_filtered$gender == \"male\"))\n",
    "cor.test(~ steps + bmi, data=health_filtered, subset = (health_filtered$gender == \"female\"))"
   ]
  },
  {
   "cell_type": "markdown",
   "id": "applied-acoustic",
   "metadata": {},
   "source": [
    "- Yes and Yes"
   ]
  },
  {
   "cell_type": "markdown",
   "id": "attractive-sauce",
   "metadata": {},
   "source": [
    "Finally, in addition to running a statistical correlation test, what else can you do to better understand the relationship between daily steps and BMI? How would you described this relationship? **(3 points)** \n",
    "\n",
    "> We should do extensive data visualization. There are many many ways you can plot this data, and typically I would do many more than this, but as I explained in class, my hope was that you will find a particular friend hiding in the data, so I'm just going to show that plot:"
   ]
  },
  {
   "cell_type": "code",
   "execution_count": 10,
   "id": "running-toyota",
   "metadata": {},
   "outputs": [
    {
     "data": {
      "image/png": "[encoded data removed]",
      "text/plain": [
       "plot without title"
      ]
     },
     "metadata": {
      "image/png": {
       "height": 420,
       "width": 420
      }
     },
     "output_type": "display_data"
    }
   ],
   "source": [
    "ggplot(health_filtered, aes(steps, bmi)) +\n",
    "geom_point()"
   ]
  },
  {
   "cell_type": "markdown",
   "id": "successful-sweden",
   "metadata": {},
   "source": [
    "- *insert response based on code output here*"
   ]
  }
 ],
 "metadata": {
  "kernelspec": {
   "display_name": "R",
   "language": "R",
   "name": "ir"
  },
  "language_info": {
   "codemirror_mode": "r",
   "file_extension": ".r",
   "mimetype": "text/x-r-source",
   "name": "R",
   "pygments_lexer": "r",
   "version": "4.0.4"
  }
 },
 "nbformat": 4,
 "nbformat_minor": 5
}
