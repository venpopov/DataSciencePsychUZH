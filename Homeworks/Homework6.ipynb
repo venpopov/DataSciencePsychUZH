{
 "cells": [
  {
   "cell_type": "markdown",
   "id": "timely-ticket",
   "metadata": {},
   "source": [
    "## Homework 6: Logistic regression\n",
    "\n",
    "In this homework you will work through some examples to understand how proportion data is generated from latent variables, and what different conclusions can be reached by applying either linear or logistic regression to the resulting binary outcome. First, we will work through the simulation I discussed with you in class."
   ]
  },
  {
   "cell_type": "markdown",
   "id": "opposite-sacramento",
   "metadata": {},
   "source": [
    "#### Part 1: Set up the situation by simulating data\n",
    "\n",
    "In many psychological settings, what we can directly observe is not what we are more generally interested in. For example, when we measure memory as the proportion of words that participants can recall from the list, this proportion is only a proxy for what we call \"memory strength\". We assume that memories in the mind differ continuously in their strength, and that you can recall a memory only if its strength passes a retrieval threshold. Thus, the proportion of correct recalls does tell us directly how strong memories are, but only how relatively strong they are to a threshold"
   ]
  },
  {
   "cell_type": "code",
   "execution_count": null,
   "id": "announced-enhancement",
   "metadata": {},
   "outputs": [],
   "source": []
  }
 ],
 "metadata": {
  "kernelspec": {
   "display_name": "R",
   "language": "R",
   "name": "ir"
  },
  "language_info": {
   "codemirror_mode": "r",
   "file_extension": ".r",
   "mimetype": "text/x-r-source",
   "name": "R",
   "pygments_lexer": "r",
   "version": "4.0.4"
  }
 },
 "nbformat": 4,
 "nbformat_minor": 5
}
