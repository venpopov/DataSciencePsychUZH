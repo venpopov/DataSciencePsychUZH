{
 "cells": [
  {
   "cell_type": "markdown",
   "metadata": {},
   "source": [
    "## You've got the power\n",
    "\n",
    "How do you determine the sample size necessary to obtain a real effect (with a desired probability)? The typical approach to this is to run a power analysis for known distributions, which analytically (i.e. using math) calculates how many participants you need to have, in order to have an 80% chance, for example, to detect an effect. One tool to accomplish that is called [G-power](http://www.gpower.hhu.de/en.html).\n",
    "\n",
    "The problems with using G-power and similar analytical tools are that:\n",
    "- you can only use them for analyses they have implemented that have a simple analytical solution (e.g., t-tests, ANOVA). They do not offer power analyses for mixed-effects regressions and many other tools that you have learned in the class.\n",
    "- they calculate power only as a function of \"number of participants\" - they do not take into account the fact that increasing the number of observations per participant can also increase power, by decreasing variability in individual estimates\n",
    "\n",
    "The solution to these problems is to do power analyses by simulation. The idea is actually quite simple - you repeatedly simulate artificial data by choosing plausible parameters given the existing literature or expected effect sizes and then you run the analysis of your choice on the simulated data. The proportion of simulations in which you find a statistically significant result is the power of your study, or the probability with which you can expect to find a real effect of that size in your sample.\n",
    "\n"
   ]
  },
  {
   "cell_type": "markdown",
   "metadata": {},
   "source": [
    "## Basic algorithm\n",
    "\n",
    "Simulation power analyses follow these steps, on which we'll expand in the subsequent sections:\n",
    "1. Determine sources of variance - between subject variability, trial-by-trial variability, etc\n",
    "2. Write a data simualtion function that has:\n",
    "    - input: are parameters that control sample size, number of trials, means and variances of conditions, etc\n",
    "    - procedure: simulate observations given these parameters\n",
    "    - output: simulated dataset\n",
    "3. Write an analysis function that has:\n",
    "    - input: simulated dataset\n",
    "    - procedure: run analysis and extract statistical significance\n",
    "    - output: statistical significance value (p-value, $\\delta$ AIC, BIC, etc)\n",
    "4. Write a loop that:\n",
    "    - repeatedly runs the prior two functions for each different sample size and numbers of trials and extracts the proportion of simulations for each in which the analysis is significant"
   ]
  },
  {
   "cell_type": "markdown",
   "metadata": {},
   "source": [
    "### Determine sources of variance"
   ]
  },
  {
   "cell_type": "markdown",
   "metadata": {},
   "source": [
    "The outcome of any statistical analysis basically depends on how much your observations vary as you sample them. Variance comes from many sources - there are individual differences, noisy sampling, trial-by-trial variability, etc. Which of these variance sources you need to specify depends on the domain and the analysis you want to run.\n",
    "\n",
    "Let's say you want to determine whether men are on average higher than women. There is a \"true\" underlying difference in the population, such that if you measure the heights of all men and all women you would get the following population parameters.:\n",
    "\n",
    "$$\\mu_{m} = 177 cm$$"
   ]
  },
  {
   "cell_type": "markdown",
   "metadata": {},
   "source": [
    "$$\\mu_w = 163 cm$$\n",
    "\n",
    "However, since each man and each woman vary in their heights, if you sample 10 of each, you would get sample statistics that are similar, but not identical to the population parameters. It is even possible that you would, by chance, with such a small sample get a group of women that are on average higher than men. \n",
    "\n",
    "Therefore, in order to run a power analysis for a t-test comparing the height of men and women, you need to specify how much you expect the individual people to vary in height. Since in adulthood height is mostly constant from day to day, you don't have to wory in this case for repeated measurements and their variability and you can just run a simple t-test. Let's do it the algorithm specified above. \n",
    "\n",
    "Height is normally distributed with the above means and standard deviations of:"
   ]
  },
  {
   "cell_type": "markdown",
   "metadata": {},
   "source": [
    "$$\\sigma_m = 7cm$$"
   ]
  },
  {
   "cell_type": "markdown",
   "metadata": {},
   "source": [
    "$$\\sigma_w = 6.3cm$$\n",
    "\n",
    "We can also use the following notation, which means that height is distributed normally with the given means and variance:"
   ]
  },
  {
   "cell_type": "markdown",
   "metadata": {},
   "source": [
    "$$Height_m \\sim \\mathcal{N}(\\mu_m,\\,\\sigma_m^{2})$$"
   ]
  },
  {
   "cell_type": "markdown",
   "metadata": {},
   "source": [
    "$$Height_w \\sim \\mathcal{N}(\\mu_w,\\,\\sigma_w^{2})$$"
   ]
  },
  {
   "cell_type": "code",
   "execution_count": 16,
   "metadata": {
    "collapsed": true
   },
   "outputs": [],
   "source": [
    "# a function for simulating data for two groups. Sample size is the number of people in each group\n",
    "simulate_data <- function(sample_size, group1_mu, group1_sd, group2_mu, group2_sd) {\n",
    "    # draw observation from a normal distribution\n",
    "    obs_group1 <- rnorm(sample_size, group1_mu, group1_sd)\n",
    "    obs_group2 <- rnorm(sample_size, group2_mu, group2_sd)\n",
    "    return(data.frame(group1=obs_group1, group2=obs_group2))\n",
    "}\n",
    "\n",
    "# a function for running a t-test and extracting p-value\n",
    "run_analysis <- function(data) {\n",
    "    fit <- t.test(data$group1, data$group2)\n",
    "    return(fit$p.value)\n",
    "}"
   ]
  },
  {
   "cell_type": "markdown",
   "metadata": {},
   "source": [
    "With the first function we can simulate heights for 5 men and women:"
   ]
  },
  {
   "cell_type": "code",
   "execution_count": 12,
   "metadata": {},
   "outputs": [
    {
     "name": "stdout",
     "output_type": "stream",
     "text": [
      "    group1   group2\n",
      "1 168.6179 149.5882\n",
      "2 179.6907 163.4565\n",
      "3 180.3962 168.9947\n",
      "4 183.3329 151.7975\n",
      "5 177.5582 164.0255\n"
     ]
    }
   ],
   "source": [
    "set.seed(18946)\n",
    "heights = simulate_data(5, 177, 7, 163, 6.3)\n",
    "print(heights)"
   ]
  },
  {
   "cell_type": "markdown",
   "metadata": {},
   "source": [
    "With the second function we can run an independent sample t.test and extract the p.value:"
   ]
  },
  {
   "cell_type": "code",
   "execution_count": 13,
   "metadata": {},
   "outputs": [
    {
     "data": {
      "text/html": [
       "0.00489576872231489"
      ],
      "text/latex": [
       "0.00489576872231489"
      ],
      "text/markdown": [
       "0.00489576872231489"
      ],
      "text/plain": [
       "[1] 0.004895769"
      ]
     },
     "metadata": {},
     "output_type": "display_data"
    }
   ],
   "source": [
    "run_analysis(heights)"
   ]
  },
  {
   "cell_type": "markdown",
   "metadata": {},
   "source": [
    "Now, this particular sample had significantly different heights. However, we may have just been lucky. If we repeat this process many times for this particular sample size, what proportion of cases will we find a significant difference? Let's put both previous functions together and repeat them 1000 times:"
   ]
  },
  {
   "cell_type": "code",
   "execution_count": 30,
   "metadata": {
    "collapsed": true
   },
   "outputs": [],
   "source": [
    "# a function for repeatedly running the t-test on multiple samples drawn with the same parameters\n",
    "repeat_analysis <- function(n_simulations, alpha, sample_size, group1_mu, group1_sd, group2_mu, group2_sd) {\n",
    "    p.values <- c() # empty vector to store p.values from each simulation\n",
    "    # loop for repeating the simulation\n",
    "    for (i in 1:n_simulations) {\n",
    "        data <- simulate_data(sample_size, group1_mu, group1_sd, group2_mu, group2_sd)\n",
    "        p.value <- run_analysis(data)\n",
    "        p.values <- c(p.values, p.value) # add the current p.value to the vector\n",
    "    }\n",
    "    \n",
    "    # calculate how many of the simulations had significant results\n",
    "    power <- mean(p.values <= alpha)\n",
    "    return(list(power = power, p.values = p.values))\n",
    "}\n"
   ]
  },
  {
   "cell_type": "markdown",
   "metadata": {},
   "source": [
    "For a 1000 simulations of 5 participants per group and a alpha significance level of 0.05, we have a power of:"
   ]
  },
  {
   "cell_type": "code",
   "execution_count": 31,
   "metadata": {},
   "outputs": [
    {
     "data": {
      "text/html": [
       "0.816"
      ],
      "text/latex": [
       "0.816"
      ],
      "text/markdown": [
       "0.816"
      ],
      "text/plain": [
       "[1] 0.816"
      ]
     },
     "metadata": {},
     "output_type": "display_data"
    }
   ],
   "source": [
    "set.seed(18546)\n",
    "results = repeat_analysis(1000, 0.05, 5, 177, 7, 163, 6.3)\n",
    "results$power"
   ]
  },
  {
   "cell_type": "markdown",
   "metadata": {},
   "source": [
    "This means that there is an 81.6% probability that a we can detect a significant difference (at p < 0.05) in heights between men and women if we measure 5 of each. If we measure 10 people per group instead, we get a much higher power:"
   ]
  },
  {
   "cell_type": "code",
   "execution_count": 32,
   "metadata": {},
   "outputs": [
    {
     "data": {
      "text/html": [
       "0.988"
      ],
      "text/latex": [
       "0.988"
      ],
      "text/markdown": [
       "0.988"
      ],
      "text/plain": [
       "[1] 0.988"
      ]
     },
     "metadata": {},
     "output_type": "display_data"
    }
   ],
   "source": [
    "set.seed(18546)\n",
    "results = repeat_analysis(1000, 0.05, 10, 177, 7, 163, 6.3)\n",
    "results$power"
   ]
  },
  {
   "cell_type": "markdown",
   "metadata": {},
   "source": [
    "If we become more conservative with our statistical threshold, power decreases:"
   ]
  },
  {
   "cell_type": "code",
   "execution_count": 33,
   "metadata": {},
   "outputs": [
    {
     "data": {
      "text/html": [
       "0.756"
      ],
      "text/latex": [
       "0.756"
      ],
      "text/markdown": [
       "0.756"
      ],
      "text/plain": [
       "[1] 0.756"
      ]
     },
     "metadata": {},
     "output_type": "display_data"
    }
   ],
   "source": [
    "set.seed(18546)\n",
    "results = repeat_analysis(1000, 0.001, 10, 177, 7, 163, 6.3)\n",
    "results$power"
   ]
  },
  {
   "cell_type": "markdown",
   "metadata": {},
   "source": [
    "Just to make it clearer, we can visualize the distribution of p.values obtained from each simulation:"
   ]
  },
  {
   "cell_type": "code",
   "execution_count": 50,
   "metadata": {},
   "outputs": [
    {
     "data": {
      "text/html": [
       "0.798"
      ],
      "text/latex": [
       "0.798"
      ],
      "text/markdown": [
       "0.798"
      ],
      "text/plain": [
       "[1] 0.798"
      ]
     },
     "metadata": {},
     "output_type": "display_data"
    },
    {
     "data": {
      "image/png": "[encoded data removed]",
      "text/plain": [
       "Plot with title \"Histogram of results$p.values\""
      ]
     },
     "metadata": {},
     "output_type": "display_data"
    }
   ],
   "source": [
    "options(repr.plot.width=4, repr.plot.height=4)\n",
    "results = repeat_analysis(1000, 0.05, 5, 177, 7, 163, 6.3)\n",
    "results$power\n",
    "hist(results$p.values, breaks = 50)"
   ]
  },
  {
   "cell_type": "markdown",
   "metadata": {},
   "source": [
    "Now, for the inverse question, how many people do we need to be 95% certain that we will detect a significant difference in heights between men and women? You could manually play arround with the function's parameters, until you obtain a desired level of power, but we can instead simulated data for different sample sizes automatically and choose the one that gives us the desired level. We will use the `tidyverse` package to create a dataframe with parameters, then simulate data for each row of the dataframe, store the results in a column, then run the analysis on that column and store the resulting p.value. Check these two tutorials for more details on how to do that: [Link 1](https://github.com/CoAxLab/DataSciencePsychNeuro_CMU85732/blob/master/Tutorials/Tutorial2_DataProcessingWithRAndTidyverse.ipynb) and [Link 2](https://github.com/CoAxLab/DataSciencePsychNeuro_CMU85732/blob/master/Tutorials/Tutorial8_FittingIndVsGroup.ipynb)"
   ]
  },
  {
   "cell_type": "code",
   "execution_count": 87,
   "metadata": {
    "collapsed": true
   },
   "outputs": [],
   "source": [
    "library(tidyverse)\n",
    "# first, create a data.frame to store the results\n",
    "dat <- expand.grid(sample_size = 2:20, alpha = c(0.05,0.01,0.001))\n",
    "dat$id <- 1:nrow(dat)\n",
    "\n",
    "# then use tidyverse functions to run the analsyis for each sample size\n",
    "results <- dat  %>% \n",
    "    nest(-id, .key = 'pars')  %>% \n",
    "    mutate(power = map(pars, ~ repeat_analysis(1000, .$alpha, .$sample_size, 177, 7, 163, 6.3)$power))  %>% \n",
    "    unnest(pars, power)"
   ]
  },
  {
   "cell_type": "markdown",
   "metadata": {},
   "source": [
    "We can plot the power level for the different sample sizes and alpha levels:"
   ]
  },
  {
   "cell_type": "code",
   "execution_count": 94,
   "metadata": {},
   "outputs": [
    {
     "data": {},
     "metadata": {},
     "output_type": "display_data"
    },
    {
     "data": {
      "image/png": "[encoded data removed]",
      "text/plain": [
       "plot without title"
      ]
     },
     "metadata": {},
     "output_type": "display_data"
    }
   ],
   "source": [
    "options(repr.plot.width=6)\n",
    "ggplot(results, aes(sample_size, power, color=as.factor(alpha), group=alpha)) +\n",
    "    geom_point() +\n",
    "    geom_line() +\n",
    "    geom_hline(yintercept = 0.8) +\n",
    "    geom_hline(yintercept = 0.95) +\n",
    "    scale_color_discrete('Alpha level') +\n",
    "    scale_x_continuous('Sample size') +\n",
    "    theme_classic()"
   ]
  },
  {
   "cell_type": "markdown",
   "metadata": {},
   "source": [
    "You can see, that for a power of 95% you need 14 people per group to detect difference in height at the 0.001 level."
   ]
  },
  {
   "cell_type": "markdown",
   "metadata": {},
   "source": [
    "### Extending to more complicated analyses: Example with mixed-models"
   ]
  },
  {
   "cell_type": "markdown",
   "metadata": {},
   "source": [
    "The basic procedure outlined above and the functions presented can be extended to any type of analysis in which there is a discrete threshold for making significance decisions. The only thing that has to be changed is the generation of the data and the analysis function. In generating the data, the most complicated thing is specifying the variance structure. \n",
    "\n",
    "Let's take for example a mixed-effects regression of reaction times in a priming lexical decision experiment. We are interested in whether people make lexical decision ('Is this string a word or not?') faster after semantically congruent rather than semantically incongruent items. How do we generate data for this? Typical psycholinguistic experiments use repeated measures designs where each participant performs many trials in each condition. The reaction time to any trial is determined by:\n",
    "- mean of each condition (expected population priming effect)\n",
    "- individual differences in:\n",
    "    - overall speed (different intercepts for each subject)\n",
    "    - difference between conditions (some people might be more strongly affected by the manipulation than others)\n",
    "- trial-by-trial variation\n"
   ]
  },
  {
   "cell_type": "markdown",
   "metadata": {},
   "source": [
    "So our mixed effects model and data structure would be as follows:"
   ]
  },
  {
   "cell_type": "markdown",
   "metadata": {},
   "source": [
    "$$RTs = \\beta_{subject\\_intercept} + \\beta_{subject\\_slope} * condition + \\epsilon_{trial}$$"
   ]
  },
  {
   "cell_type": "markdown",
   "metadata": {},
   "source": [
    "$$\\beta_{subject\\_intercept} = \\beta_{overall\\_intercept} + \\epsilon_{intercept}$$"
   ]
  },
  {
   "cell_type": "markdown",
   "metadata": {},
   "source": [
    "$$\\beta_{subject\\_slope} = \\beta_{mean\\_difference} + \\epsilon_{slope}$$"
   ]
  },
  {
   "cell_type": "markdown",
   "metadata": {},
   "source": [
    "$$\\epsilon_{trial} \\sim \\mathcal{N}(0, \\sigma_{trial}^2)$$"
   ]
  },
  {
   "cell_type": "markdown",
   "metadata": {},
   "source": [
    "$$\\epsilon_{intercept} \\sim \\mathcal{N}(0, \\sigma_{intercept}^2)$$"
   ]
  },
  {
   "cell_type": "markdown",
   "metadata": {},
   "source": [
    "$$\\epsilon_{slope} \\sim \\mathcal{N}(0, \\sigma_{slope}^2)$$"
   ]
  },
  {
   "cell_type": "markdown",
   "metadata": {},
   "source": [
    "In our simulation, then, we need to specify 5 parameters for the data generation:\n",
    "- $\\beta_{overall\\_intercept}$ (Average RTs for congruent primes)\n",
    "- $\\beta_{mean\\_difference}$ (Average RT difference between congruent and incongruent primes)\n",
    "- $\\sigma_{trial}$ (The standard deviation of RTs on each trial, if one participant responds to the same item)\n",
    "- $\\sigma_{intercept}$ (How much individual subjects vary in their overall speed)\n",
    "- $\\sigma_{mean_difference}$ (How much individual subjects vary in how strongly they are affected by priming)"
   ]
  },
  {
   "cell_type": "markdown",
   "metadata": {},
   "source": [
    "Let's pick some plausible parameters based on prior literature and educated guessing:\n",
    "\n",
    "$$\\beta_{overall\\_intercept} = 700 ms.$$"
   ]
  },
  {
   "cell_type": "markdown",
   "metadata": {},
   "source": [
    "$$\\beta_{mean\\_difference} = 50 ms.$$"
   ]
  },
  {
   "cell_type": "markdown",
   "metadata": {},
   "source": [
    "$$\\sigma_{trial} = 200 ms.$$"
   ]
  },
  {
   "cell_type": "markdown",
   "metadata": {},
   "source": [
    "$$\\sigma_{intercept} = 100 ms.$$ "
   ]
  },
  {
   "cell_type": "markdown",
   "metadata": {},
   "source": [
    "$$\\sigma_{mean_difference} = 50 ms.$$"
   ]
  },
  {
   "cell_type": "markdown",
   "metadata": {},
   "source": [
    "How many subjects and trials per subject do we need to achieve 80% power? Let's adapt our functions"
   ]
  },
  {
   "cell_type": "code",
   "execution_count": 5,
   "metadata": {},
   "outputs": [],
   "source": [
    "# a function for simulating data for mixed-model.\n",
    "simulate_data <- function(n_subjects, n_trials, intercept, slope, intercept_sd, slope_sd, trial_sd) {\n",
    "    # draw observation from a normal distribution\n",
    "    subject_intercepts <- rnorm(n_subjects, intercept, intercept_sd)\n",
    "    subject_slopes <- rnorm(n_subjects, slope, slope_sd)\n",
    "    dat <- data.frame(subject = 1:n_subjects, intercept = subject_intercepts, slope=subject_slopes)\n",
    "    # generate trials for each subject\n",
    "    dat <- dat  %>% \n",
    "        nest(-subject, .key = pars)  %>% \n",
    "        mutate(congruent = map(pars, ~rnorm(n_trials, intercept, trial_sd)),\n",
    "               incongruent = map(pars, ~rnorm(n_trials, intercept+slope, trial_sd)))  %>% \n",
    "        unnest(congruent,incongruent, .drop = FALSE)  %>% \n",
    "        unnest(pars)  %>% \n",
    "        gather(prime, rt, congruent, incongruent)\n",
    "    return(dat)\n",
    "}\n",
    "\n",
    "\n",
    "# a function for running a mixed-model and extract p-value\n",
    "run_analysis <- function(data) {\n",
    "    # fit null and alternative model\n",
    "    ml0 <- lmer(rt ~ 1 + (prime||subject), data=data, REML=FALSE, control=lmerControl(calc.derivs = FALSE))\n",
    "    ml1 <- lmer(rt ~ prime + (prime||subject), data=data, REML=FALSE, control=lmerControl(calc.derivs = FALSE))\n",
    "    # run a likelihood ratio test and extract p.value. You can replace with change in AIC or BIC\n",
    "    llrt <- anova(ml0, ml1)\n",
    "    statistic <- llrt$`Pr(>Chisq)`[2]\n",
    "    return(statistic)\n",
    "}"
   ]
  },
  {
   "cell_type": "markdown",
   "metadata": {},
   "source": [
    "Before we run the full analysis, just for demonstration, here is simulated data for some subjects:"
   ]
  },
  {
   "cell_type": "code",
   "execution_count": 6,
   "metadata": {},
   "outputs": [
    {
     "data": {
      "text/html": [
       "<table>\n",
       "<thead><tr><th scope=col>subject</th><th scope=col>intercept</th><th scope=col>slope</th><th scope=col>prime</th><th scope=col>rt</th></tr></thead>\n",
       "<tbody>\n",
       "\t<tr><td>1        </td><td>653.4452 </td><td> 9.970433</td><td>congruent</td><td>556.9333 </td></tr>\n",
       "\t<tr><td>1        </td><td>653.4452 </td><td> 9.970433</td><td>congruent</td><td>834.7421 </td></tr>\n",
       "\t<tr><td>1        </td><td>653.4452 </td><td> 9.970433</td><td>congruent</td><td>550.1699 </td></tr>\n",
       "\t<tr><td>1        </td><td>653.4452 </td><td> 9.970433</td><td>congruent</td><td>770.3064 </td></tr>\n",
       "\t<tr><td>1        </td><td>653.4452 </td><td> 9.970433</td><td>congruent</td><td>511.8577 </td></tr>\n",
       "\t<tr><td>1        </td><td>653.4452 </td><td> 9.970433</td><td>congruent</td><td>841.3645 </td></tr>\n",
       "\t<tr><td>1        </td><td>653.4452 </td><td> 9.970433</td><td>congruent</td><td>576.9677 </td></tr>\n",
       "\t<tr><td>1        </td><td>653.4452 </td><td> 9.970433</td><td>congruent</td><td>910.4586 </td></tr>\n",
       "\t<tr><td>1        </td><td>653.4452 </td><td> 9.970433</td><td>congruent</td><td>803.5632 </td></tr>\n",
       "\t<tr><td>1        </td><td>653.4452 </td><td> 9.970433</td><td>congruent</td><td>565.9185 </td></tr>\n",
       "\t<tr><td>2        </td><td>910.4546 </td><td>35.058128</td><td>congruent</td><td>665.9294 </td></tr>\n",
       "\t<tr><td>2        </td><td>910.4546 </td><td>35.058128</td><td>congruent</td><td>613.5945 </td></tr>\n",
       "\t<tr><td>2        </td><td>910.4546 </td><td>35.058128</td><td>congruent</td><td>919.7440 </td></tr>\n",
       "\t<tr><td>2        </td><td>910.4546 </td><td>35.058128</td><td>congruent</td><td>828.6935 </td></tr>\n",
       "\t<tr><td>2        </td><td>910.4546 </td><td>35.058128</td><td>congruent</td><td>635.9992 </td></tr>\n",
       "\t<tr><td>2        </td><td>910.4546 </td><td>35.058128</td><td>congruent</td><td>596.4841 </td></tr>\n",
       "\t<tr><td>2        </td><td>910.4546 </td><td>35.058128</td><td>congruent</td><td>580.5608 </td></tr>\n",
       "\t<tr><td>2        </td><td>910.4546 </td><td>35.058128</td><td>congruent</td><td>762.2880 </td></tr>\n",
       "\t<tr><td>2        </td><td>910.4546 </td><td>35.058128</td><td>congruent</td><td>636.2139 </td></tr>\n",
       "\t<tr><td>2        </td><td>910.4546 </td><td>35.058128</td><td>congruent</td><td>730.1090 </td></tr>\n",
       "</tbody>\n",
       "</table>\n"
      ],
      "text/latex": [
       "\\begin{tabular}{r|lllll}\n",
       " subject & intercept & slope & prime & rt\\\\\n",
       "\\hline\n",
       "\t 1         & 653.4452  &  9.970433 & congruent & 556.9333 \\\\\n",
       "\t 1         & 653.4452  &  9.970433 & congruent & 834.7421 \\\\\n",
       "\t 1         & 653.4452  &  9.970433 & congruent & 550.1699 \\\\\n",
       "\t 1         & 653.4452  &  9.970433 & congruent & 770.3064 \\\\\n",
       "\t 1         & 653.4452  &  9.970433 & congruent & 511.8577 \\\\\n",
       "\t 1         & 653.4452  &  9.970433 & congruent & 841.3645 \\\\\n",
       "\t 1         & 653.4452  &  9.970433 & congruent & 576.9677 \\\\\n",
       "\t 1         & 653.4452  &  9.970433 & congruent & 910.4586 \\\\\n",
       "\t 1         & 653.4452  &  9.970433 & congruent & 803.5632 \\\\\n",
       "\t 1         & 653.4452  &  9.970433 & congruent & 565.9185 \\\\\n",
       "\t 2         & 910.4546  & 35.058128 & congruent & 665.9294 \\\\\n",
       "\t 2         & 910.4546  & 35.058128 & congruent & 613.5945 \\\\\n",
       "\t 2         & 910.4546  & 35.058128 & congruent & 919.7440 \\\\\n",
       "\t 2         & 910.4546  & 35.058128 & congruent & 828.6935 \\\\\n",
       "\t 2         & 910.4546  & 35.058128 & congruent & 635.9992 \\\\\n",
       "\t 2         & 910.4546  & 35.058128 & congruent & 596.4841 \\\\\n",
       "\t 2         & 910.4546  & 35.058128 & congruent & 580.5608 \\\\\n",
       "\t 2         & 910.4546  & 35.058128 & congruent & 762.2880 \\\\\n",
       "\t 2         & 910.4546  & 35.058128 & congruent & 636.2139 \\\\\n",
       "\t 2         & 910.4546  & 35.058128 & congruent & 730.1090 \\\\\n",
       "\\end{tabular}\n"
      ],
      "text/markdown": [
       "\n",
       "subject | intercept | slope | prime | rt | \n",
       "|---|---|---|---|---|---|---|---|---|---|---|---|---|---|---|---|---|---|---|---|\n",
       "| 1         | 653.4452  |  9.970433 | congruent | 556.9333  | \n",
       "| 1         | 653.4452  |  9.970433 | congruent | 834.7421  | \n",
       "| 1         | 653.4452  |  9.970433 | congruent | 550.1699  | \n",
       "| 1         | 653.4452  |  9.970433 | congruent | 770.3064  | \n",
       "| 1         | 653.4452  |  9.970433 | congruent | 511.8577  | \n",
       "| 1         | 653.4452  |  9.970433 | congruent | 841.3645  | \n",
       "| 1         | 653.4452  |  9.970433 | congruent | 576.9677  | \n",
       "| 1         | 653.4452  |  9.970433 | congruent | 910.4586  | \n",
       "| 1         | 653.4452  |  9.970433 | congruent | 803.5632  | \n",
       "| 1         | 653.4452  |  9.970433 | congruent | 565.9185  | \n",
       "| 2         | 910.4546  | 35.058128 | congruent | 665.9294  | \n",
       "| 2         | 910.4546  | 35.058128 | congruent | 613.5945  | \n",
       "| 2         | 910.4546  | 35.058128 | congruent | 919.7440  | \n",
       "| 2         | 910.4546  | 35.058128 | congruent | 828.6935  | \n",
       "| 2         | 910.4546  | 35.058128 | congruent | 635.9992  | \n",
       "| 2         | 910.4546  | 35.058128 | congruent | 596.4841  | \n",
       "| 2         | 910.4546  | 35.058128 | congruent | 580.5608  | \n",
       "| 2         | 910.4546  | 35.058128 | congruent | 762.2880  | \n",
       "| 2         | 910.4546  | 35.058128 | congruent | 636.2139  | \n",
       "| 2         | 910.4546  | 35.058128 | congruent | 730.1090  | \n",
       "\n",
       "\n"
      ],
      "text/plain": [
       "   subject intercept slope     prime     rt      \n",
       "1  1       653.4452   9.970433 congruent 556.9333\n",
       "2  1       653.4452   9.970433 congruent 834.7421\n",
       "3  1       653.4452   9.970433 congruent 550.1699\n",
       "4  1       653.4452   9.970433 congruent 770.3064\n",
       "5  1       653.4452   9.970433 congruent 511.8577\n",
       "6  1       653.4452   9.970433 congruent 841.3645\n",
       "7  1       653.4452   9.970433 congruent 576.9677\n",
       "8  1       653.4452   9.970433 congruent 910.4586\n",
       "9  1       653.4452   9.970433 congruent 803.5632\n",
       "10 1       653.4452   9.970433 congruent 565.9185\n",
       "11 2       910.4546  35.058128 congruent 665.9294\n",
       "12 2       910.4546  35.058128 congruent 613.5945\n",
       "13 2       910.4546  35.058128 congruent 919.7440\n",
       "14 2       910.4546  35.058128 congruent 828.6935\n",
       "15 2       910.4546  35.058128 congruent 635.9992\n",
       "16 2       910.4546  35.058128 congruent 596.4841\n",
       "17 2       910.4546  35.058128 congruent 580.5608\n",
       "18 2       910.4546  35.058128 congruent 762.2880\n",
       "19 2       910.4546  35.058128 congruent 636.2139\n",
       "20 2       910.4546  35.058128 congruent 730.1090"
      ]
     },
     "metadata": {},
     "output_type": "display_data"
    }
   ],
   "source": [
    "set.seed(8923332)\n",
    "dat <- simulate_data(10, 10, 700, 50, 100,50,200)\n",
    "head(dat, n=20)"
   ]
  },
  {
   "cell_type": "markdown",
   "metadata": {},
   "source": [
    "And here's the output of the model concerning the effect of priming:"
   ]
  },
  {
   "cell_type": "code",
   "execution_count": 26,
   "metadata": {
    "scrolled": true
   },
   "outputs": [
    {
     "data": {
      "text/html": [
       "0.0422359856482561"
      ],
      "text/latex": [
       "0.0422359856482561"
      ],
      "text/markdown": [
       "0.0422359856482561"
      ],
      "text/plain": [
       "[1] 0.04223599"
      ]
     },
     "metadata": {},
     "output_type": "display_data"
    }
   ],
   "source": [
    "run_analysis(dat)"
   ]
  },
  {
   "cell_type": "markdown",
   "metadata": {},
   "source": [
    "Let's run the simulation for various number of subjects and trials. This takes a long time, btw."
   ]
  },
  {
   "cell_type": "code",
   "execution_count": 27,
   "metadata": {
    "collapsed": true
   },
   "outputs": [],
   "source": [
    "# a function for repeatedly running the analysis on multiple samples drawn with the same parameters\n",
    "repeat_analysis <- function(n_simulations, alpha, n_subjects, n_trials, intercept, slope, intercept_sd, slope_sd, trial_sd) {\n",
    "    p.values <- c() # empty vector to store p.values from each simulation\n",
    "    # loop for repeating the simulation\n",
    "    for (i in 1:n_simulations) {\n",
    "        data <- simulate_data(n_subjects, n_trials, intercept, slope, intercept_sd, slope_sd, trial_sd)\n",
    "        p.value <- run_analysis(data)\n",
    "        p.values <- c(p.values, p.value) # add the current p.value to the vector\n",
    "    }\n",
    "    \n",
    "    # calculate how many of the simulations had significant results\n",
    "    power <- mean(p.values <= alpha)\n",
    "    return(list(power = power, p.values = p.values))\n",
    "}"
   ]
  },
  {
   "cell_type": "code",
   "execution_count": null,
   "metadata": {
    "collapsed": true,
    "scrolled": false
   },
   "outputs": [],
   "source": [
    "dat <- expand.grid(n_subjects = c(10,20,30,40), n_trials = c(10,20,30,40))\n",
    "dat$id <- 1:nrow(dat)\n",
    "\n",
    "# then use tidyverse functions to run the analsyis for each sample size (takes ~30-60 minutes)\n",
    "results <- dat  %>% \n",
    "    nest(-id, .key = 'pars')  %>% \n",
    "    mutate(power = map(pars, ~ repeat_analysis(1000, 0.05, .$n_subjects, .$n_trials, 700, 50, 100,50,200)$power))  %>% \n",
    "    unnest(pars, power)"
   ]
  },
  {
   "cell_type": "code",
   "execution_count": 36,
   "metadata": {},
   "outputs": [
    {
     "data": {},
     "metadata": {},
     "output_type": "display_data"
    },
    {
     "data": {
      "image/png": "[encoded data removed]",
      "text/plain": [
       "plot without title"
      ]
     },
     "metadata": {},
     "output_type": "display_data"
    }
   ],
   "source": [
    "options(repr.plot.width=6, repr.plot.height=4)\n",
    "ggplot(results, aes(n_subjects, power, color=as.factor(n_trials), group=n_trials)) +\n",
    "    geom_point() +\n",
    "    geom_line() +\n",
    "    geom_hline(yintercept = 0.8) +\n",
    "    geom_hline(yintercept = 0.95) +\n",
    "    scale_color_discrete('Number of trials per subject') +\n",
    "    scale_x_continuous('Number of subjects') +\n",
    "    scale_y_continuous('Statistical power (for alpha = 0.05)') +\n",
    "    theme_classic()"
   ]
  },
  {
   "cell_type": "markdown",
   "metadata": {},
   "source": [
    "So, you can see that power, at least given these variability parameters, is a function of both the number of subjects and the number of trials per subject. In this case 10 subjects with 30 trials per subject or 30 subjects with 10 trials per subject both results ~80% power. So, if subject recruitment is difficult or expensive, you can test each subject for longer instead. \n",
    "\n",
    "#### What is more important, # subjects or # trials?\n",
    "\n",
    "This depends on the relative sizes of the $\\sigma_{trial}$ and $\\sigma_{slope}$, i.e., how much observations vary from trial to trial, and how much the true effect varies from subject to subject. If $sigma_{slope}$ is relatively large, adding more subjects will be more important for estimating the population level difference, because it will improve its estimation more than adding more trials. If however people are more homogenous, and respond similarly to the manipulation, then adding more trials would be more efficient. To test this out, you can run the above simulation for different values of $\\sigma_{trial}$ and $\\sigma_{slope}$, and see it for yourself."
   ]
  }
 ],
 "metadata": {
  "kernelspec": {
   "display_name": "R",
   "language": "R",
   "name": "ir"
  },
  "language_info": {
   "codemirror_mode": "r",
   "file_extension": ".r",
   "mimetype": "text/x-r-source",
   "name": "R",
   "pygments_lexer": "r",
   "version": "3.4.3"
  }
 },
 "nbformat": 4,
 "nbformat_minor": 2
}
